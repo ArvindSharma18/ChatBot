{
 "cells": [
  {
   "cell_type": "markdown",
   "metadata": {},
   "source": [
    "# Basic Chat Bot -2"
   ]
  },
  {
   "cell_type": "markdown",
   "metadata": {},
   "source": [
    "In this code, the aim is to take user input and identify whether there are user_id detected in input, if yes then get the detail of the id from table of DB."
   ]
  },
  {
   "cell_type": "markdown",
   "metadata": {},
   "source": [
    "To solve the problem, I have used : tkinter library for GUI, sqlite3 as DB"
   ]
  },
  {
   "cell_type": "markdown",
   "metadata": {},
   "source": [
    "In order to achieve this task, I have referred the below contents to learn and use them to solve the problem. \n",
    "GUI : https://randerson112358.medium.com/build-a-simple-chat-bot-graphical-user-interface-using-python-adf7bd558fc3 "
   ]
  },
  {
   "cell_type": "markdown",
   "metadata": {},
   "source": [
    "Import Libraries"
   ]
  },
  {
   "cell_type": "code",
   "execution_count": 1,
   "metadata": {},
   "outputs": [],
   "source": [
    "from tkinter import *  # tkinter library for GUI\n",
    "import sqlite3 # for Data Base\n",
    "#import nltk # nltk library for tokenize, pos_tag methods\n",
    "#from nltk.corpus import stopwords # to import stopwords\n",
    "#nltk.download('averaged_perceptron_tagger') # used for tagging words with their parts of speech (POS)"
   ]
  },
  {
   "cell_type": "markdown",
   "metadata": {},
   "source": [
    "Initialising Variables"
   ]
  },
  {
   "cell_type": "code",
   "execution_count": 2,
   "metadata": {},
   "outputs": [],
   "source": [
    "#english_stops = set(stopwords.words('english')) # getting English Stop words\n",
    "message_text = \"\" # Final message text which will used to update the chat window\n",
    "conn = sqlite3.connect('test.db') # Connect with Database"
   ]
  },
  {
   "cell_type": "markdown",
   "metadata": {},
   "source": [
    "Defining Method to get Bot's reponse"
   ]
  },
  {
   "cell_type": "code",
   "execution_count": 3,
   "metadata": {},
   "outputs": [],
   "source": [
    "def bot_response(user):# Function to define Bot response. Can also be used to get Pre-Trained Model's output for user input.\n",
    "    \n",
    "    user = user.split() # Split the Sentence into words\n",
    "    user_id = [id for id in user if id.isalnum() and not id.isalpha()] # Identify AlphaNumeric Number which are not only Alphabetic in order to get possible list of IDs.\n",
    "    \n",
    "    cursor = conn.execute(\"SELECT id, name, address from COMPANY where id in (%s)\" %','.join('?'*len(user_id)), user_id) # Execute a Select Statement to get records from table Company where the ID in table is present in above list of possible ID from User sentence.\n",
    "    \n",
    "    response = \"Identified below customer ID: \\n\" # Initialize Response of bot\n",
    "    f=0 # Flag variable to check for no records\n",
    "    for row in cursor: # Loop through the cursor to get Records from above Select statement\n",
    "        response += \"ID: \" + row[0] + \"\\t Name: \" + row[1] + \"\\n\" # Print the ID and Name of the matched Records in Table and User Input\n",
    "        f=1 # Set flag to one to indicate presence of matching Record\n",
    "    if f ==0: # If flag not,set no records matched, print the same.\n",
    "        response += \"No Customer found. \\n\" # Print no records matched since flag is zero.\n",
    "\n",
    "    return response # return the response"
   ]
  },
  {
   "cell_type": "markdown",
   "metadata": {},
   "source": [
    "Intialising GUI and Getting the User Input and Bot's reponse to display in Chat Window"
   ]
  },
  {
   "cell_type": "code",
   "execution_count": 4,
   "metadata": {},
   "outputs": [],
   "source": [
    "root= Tk() # Creation of tkinter object.\n",
    "\n",
    "root.title(\"Chat Bot\") # Title of Window\n",
    "root.geometry(\"400x500\") # Window dimensions\n",
    "root.resizable(width=FALSE, height=FALSE) # Stop resizing of the Window\n",
    "\n",
    "chatWindow = Text(root, bd=1, bg=\"black\",  width=\"50\", height=\"8\", font=(\"Arial\", 23), foreground=\"#00ffff\") # Text Widget for Chat Window, where Chat Conversation is stored. \n",
    "chatWindow.place(x=6,y=6, height=385, width=370) # Placing the Chat Window within the Parent Window.\n",
    "\n",
    "messageWindow = Text(root, bd=0, bg=\"black\",width=\"30\", height=\"4\", font=(\"Arial\", 23), foreground=\"#00ffff\") # Text Widget for Message Window where user enters his sentence.\n",
    "messageWindow.place(x=128, y=400, height=88, width=260) # Placing the Message Window within the Parent Window.\n",
    "\n",
    "scrollbar = Scrollbar(root, command=chatWindow.yview, cursor=\"star\") # Scroll bar widget to see future message which are stored down.\n",
    "scrollbar.place(x=375,y=5, height=385) # Placing the scroll bar in Parent Window\n",
    "\n",
    "\n",
    "\n",
    "def getPOS(message_text = message_text ): # Method to perform actions after Button is pressed.\n",
    "    \n",
    "    user = messageWindow.get(\"1.0\",END) # Get the user input entered by the user in Message Window.\n",
    "    message_text += \"User: \" + user # Appending the user text in message_text to update in conversation\n",
    "    \n",
    "    bot = bot_response(user) # Calling the bot_response method to get bot's response for user input and storing the ouput in variable bot.\n",
    "    \n",
    "    message_text += \"Bot: \" + bot + \"\\n\" # Appending bot's response (POS) for user input to messgae_text\n",
    "    chatWindow.insert(INSERT, message_text) # Inserting the updated Conversation\n",
    "    messageWindow.delete(\"1.0\",END) # Deleting the contents of previous user input for next sentence.\n",
    "\n",
    "Button= Button(root, text=\"Send\", command=getPOS, width=\"12\", height=5,\n",
    "                    bd=0, bg=\"#0080ff\", activebackground=\"#00bfff\",foreground='#ffffff',font=(\"Arial\", 12)) # Button Widget to submit user input from Text Widgets and updating the Conversation appropriately.\n",
    "Button.place(x=6, y=400, height=88) # Placing the Budget Widget within Parent Window\n",
    "\n",
    "root.mainloop() # This method listens for events, such as button clicks or keypresses, and blocks any code that comes after it from running until the window it's called on is closed."
   ]
  },
  {
   "cell_type": "markdown",
   "metadata": {},
   "source": [
    "Once Done, close the connection with DB"
   ]
  },
  {
   "cell_type": "code",
   "execution_count": 5,
   "metadata": {},
   "outputs": [],
   "source": [
    "conn.close() # Close the connection to db."
   ]
  },
  {
   "cell_type": "code",
   "execution_count": null,
   "metadata": {},
   "outputs": [],
   "source": []
  }
 ],
 "metadata": {
  "kernelspec": {
   "display_name": "Python 3",
   "language": "python",
   "name": "python3"
  },
  "language_info": {
   "codemirror_mode": {
    "name": "ipython",
    "version": 3
   },
   "file_extension": ".py",
   "mimetype": "text/x-python",
   "name": "python",
   "nbconvert_exporter": "python",
   "pygments_lexer": "ipython3",
   "version": "3.7.4"
  }
 },
 "nbformat": 4,
 "nbformat_minor": 2
}
