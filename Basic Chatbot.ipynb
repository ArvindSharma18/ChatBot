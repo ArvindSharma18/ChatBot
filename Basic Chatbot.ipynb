{
 "cells": [
  {
   "cell_type": "markdown",
   "metadata": {},
   "source": [
    "# Basic Chat Bot"
   ]
  },
  {
   "cell_type": "markdown",
   "metadata": {},
   "source": [
    "In this code, the aim is to take user input and provide POS ( Part of Speech) of the input as bot's response."
   ]
  },
  {
   "cell_type": "markdown",
   "metadata": {},
   "source": [
    "To solve the problem, I have used : tkinter library for GUI, nltk library for basic NLP opperation of removing stop words,tokenize and pos_tag."
   ]
  },
  {
   "cell_type": "markdown",
   "metadata": {},
   "source": [
    "In order to achieve this task, I have referred the below contents to learn and use them to solve the problem. \n",
    "GUI : https://randerson112358.medium.com/build-a-simple-chat-bot-graphical-user-interface-using-python-adf7bd558fc3 \n",
    "\n",
    "Tokenization and POS Tagging: https://medium.com/@gianpaul.r/tokenization-and-parts-of-speech-pos-tagging-in-pythons-nltk-library-2d30f70af13b\n"
   ]
  },
  {
   "cell_type": "markdown",
   "metadata": {},
   "source": [
    "Import Libraries"
   ]
  },
  {
   "cell_type": "code",
   "execution_count": null,
   "metadata": {},
   "outputs": [],
   "source": [
    "from tkinter import *  # tkinter library for GUI\n",
    "import nltk # nltk library for tokenize, pos_tag methods\n",
    "from nltk.corpus import stopwords # to import stopwords\n",
    "\n",
    "nltk.download('averaged_perceptron_tagger') # used for tagging words with their parts of speech (POS)"
   ]
  },
  {
   "cell_type": "markdown",
   "metadata": {},
   "source": [
    "Initialising Variables"
   ]
  },
  {
   "cell_type": "code",
   "execution_count": null,
   "metadata": {},
   "outputs": [],
   "source": [
    "english_stops = set(stopwords.words('english')) # getting English Stop words\n",
    "message_text = \"\" # Final message text which will used to update the chat window"
   ]
  },
  {
   "cell_type": "markdown",
   "metadata": {},
   "source": [
    "Defining Method to get Bot's reponse"
   ]
  },
  {
   "cell_type": "code",
   "execution_count": null,
   "metadata": {},
   "outputs": [],
   "source": [
    "def bot_response(user): # Function to define Bot response. Can also be used to get Pre-Trained Model's output for user input.\n",
    "    \n",
    "    tokens = nltk.word_tokenize(user) # Tokenize the user input. Outputs list of words, in User input sentence.\n",
    "    user_no_stop = [word for word in tokens if word not in english_stops] # Remove the stop words\n",
    "    pos = nltk.pos_tag(user_no_stop) # use pos_tag method to tag words to respective part of speech. Outputs list of (word, tag) tuples.\n",
    "    \n",
    "    response = \" \" # Overall response of bot\n",
    "    for i in pos: # iterating through pos_tag list\n",
    "        response += \"'\"+ i[0] + \"'\" + \" : \" + i[1] + \" , \" # appending word and tag to overall response\n",
    "    \n",
    "    return response # return the response"
   ]
  },
  {
   "cell_type": "markdown",
   "metadata": {},
   "source": [
    "Intialising GUI and Getting the User Input and Bot's reponse to display in Chat Window"
   ]
  },
  {
   "cell_type": "code",
   "execution_count": null,
   "metadata": {},
   "outputs": [],
   "source": [
    "root= Tk() # Creation of tkinter object.\n",
    "\n",
    "root.title(\"Chat Bot\") # Title of Window\n",
    "root.geometry(\"400x500\") # Window dimensions\n",
    "root.resizable(width=FALSE, height=FALSE) # Stop resizing of the Window\n",
    "\n",
    "chatWindow = Text(root, bd=1, bg=\"black\",  width=\"50\", height=\"8\", font=(\"Arial\", 23), foreground=\"#00ffff\") # Text Widget for Chat Window, where Chat Conversation is stored. \n",
    "chatWindow.place(x=6,y=6, height=385, width=370) # Placing the Chat Window within the Parent Window.\n",
    "\n",
    "messageWindow = Text(root, bd=0, bg=\"black\",width=\"30\", height=\"4\", font=(\"Arial\", 23), foreground=\"#00ffff\") # Text Widget for Message Window where user enters his sentence.\n",
    "messageWindow.place(x=128, y=400, height=88, width=260) # Placing the Message Window within the Parent Window.\n",
    "\n",
    "scrollbar = Scrollbar(root, command=chatWindow.yview, cursor=\"star\") # Scroll bar widget to see future message which are stored down.\n",
    "scrollbar.place(x=375,y=5, height=385) # Placing the scroll bar in Parent Window\n",
    "\n",
    "\n",
    "\n",
    "def getPOS(message_text = message_text ): # Method to perform actions after Button is pressed.\n",
    "    \n",
    "    user = messageWindow.get(\"1.0\",END) # Get the user input entered by the user in Message Window.\n",
    "    message_text += \"User: \" + user # Appending the user text in message_text to update in conversation\n",
    "    \n",
    "    bot = bot_response(user) # Calling the bot_response method to get bot's response for user input and storing the ouput in variable bot.\n",
    "    \n",
    "    message_text += \"Bot: \" + bot + \"\\n\" # Appending bot's response (POS) for user input to messgae_text\n",
    "    chatWindow.insert(INSERT, message_text) # Inserting the updated Conversation\n",
    "    messageWindow.delete(\"1.0\",END) # Deleting the contents of previous user input for next sentence.\n",
    "\n",
    "Button= Button(root, text=\"Send\", command=getPOS, width=\"12\", height=5,\n",
    "                    bd=0, bg=\"#0080ff\", activebackground=\"#00bfff\",foreground='#ffffff',font=(\"Arial\", 12)) # Button Widget to submit user input from Text Widgets and updating the Conversation appropriately.\n",
    "Button.place(x=6, y=400, height=88) # Placing the Budget Widget within Parent Window\n",
    "\n",
    "root.mainloop() # This method listens for events, such as button clicks or keypresses, and blocks any code that comes after it from running until the window it's called on is closed."
   ]
  }
 ],
 "metadata": {
  "kernelspec": {
   "display_name": "Python 3",
   "language": "python",
   "name": "python3"
  },
  "language_info": {
   "codemirror_mode": {
    "name": "ipython",
    "version": 3
   },
   "file_extension": ".py",
   "mimetype": "text/x-python",
   "name": "python",
   "nbconvert_exporter": "python",
   "pygments_lexer": "ipython3",
   "version": "3.7.4"
  }
 },
 "nbformat": 4,
 "nbformat_minor": 2
}
