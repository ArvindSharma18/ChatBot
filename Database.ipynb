{
 "cells": [
  {
   "cell_type": "markdown",
   "metadata": {},
   "source": [
    "# Basic Chatbot-2 DB setup"
   ]
  },
  {
   "cell_type": "markdown",
   "metadata": {},
   "source": [
    "This is a Database Setup for Chatbot-2. \n",
    "\n",
    "Please note after working with the Chatbot-2, Uncomment the last cell to delete table and commit and then comment it back again."
   ]
  },
  {
   "cell_type": "markdown",
   "metadata": {},
   "source": [
    "Import Library"
   ]
  },
  {
   "cell_type": "code",
   "execution_count": 1,
   "metadata": {},
   "outputs": [],
   "source": [
    "import sqlite3 # Import sqlite3 for DB"
   ]
  },
  {
   "cell_type": "markdown",
   "metadata": {},
   "source": [
    "Establish a connection with a Database"
   ]
  },
  {
   "cell_type": "code",
   "execution_count": 2,
   "metadata": {},
   "outputs": [],
   "source": [
    "conn = sqlite3.connect('test.db') # Connecting with test database"
   ]
  },
  {
   "cell_type": "markdown",
   "metadata": {},
   "source": [
    "Create a Table Company with below columns\n",
    "\n",
    "ID, NAME, ADDRESS"
   ]
  },
  {
   "cell_type": "code",
   "execution_count": 3,
   "metadata": {},
   "outputs": [
    {
     "data": {
      "text/plain": [
       "<sqlite3.Cursor at 0x2468e3d6260>"
      ]
     },
     "execution_count": 3,
     "metadata": {},
     "output_type": "execute_result"
    }
   ],
   "source": [
    "conn.execute('''CREATE TABLE COMPANY\n",
    "         (ID CHAR(10) PRIMARY KEY     NOT NULL,\n",
    "         NAME           TEXT    NOT NULL,\n",
    "         ADDRESS        CHAR(50));''') # Executing a CREATE TABLE statement to create a Table with above description"
   ]
  },
  {
   "cell_type": "markdown",
   "metadata": {},
   "source": [
    "INSERT FEW VALUES INTO THE TABLE TO WORK"
   ]
  },
  {
   "cell_type": "code",
   "execution_count": 4,
   "metadata": {},
   "outputs": [],
   "source": [
    "conn.execute(\"INSERT INTO COMPANY (ID,NAME,ADDRESS) \\\n",
    "      VALUES ('c100', 'Paul','California' )\"); # Add row"
   ]
  },
  {
   "cell_type": "code",
   "execution_count": 5,
   "metadata": {},
   "outputs": [],
   "source": [
    "conn.execute(\"INSERT INTO COMPANY (ID,NAME,ADDRESS) \\\n",
    "      VALUES ('c101', 'Josh','New York' )\"); # Add row"
   ]
  },
  {
   "cell_type": "code",
   "execution_count": 6,
   "metadata": {},
   "outputs": [],
   "source": [
    "conn.execute(\"INSERT INTO COMPANY (ID,NAME,ADDRESS) \\\n",
    "      VALUES ('c102', 'Rick','Chicago' )\"); # Add row"
   ]
  },
  {
   "cell_type": "code",
   "execution_count": 7,
   "metadata": {},
   "outputs": [],
   "source": [
    "conn.execute(\"INSERT INTO COMPANY (ID,NAME,ADDRESS) \\\n",
    "      VALUES ('c103', 'Ben','Texas' )\"); # Add row"
   ]
  },
  {
   "cell_type": "code",
   "execution_count": 8,
   "metadata": {},
   "outputs": [],
   "source": [
    "conn.execute(\"INSERT INTO COMPANY (ID,NAME,ADDRESS) \\\n",
    "      VALUES ('c104', 'Adam','Ohio' )\"); # Add row"
   ]
  },
  {
   "cell_type": "markdown",
   "metadata": {},
   "source": [
    "Display the content of table"
   ]
  },
  {
   "cell_type": "code",
   "execution_count": 9,
   "metadata": {},
   "outputs": [
    {
     "name": "stdout",
     "output_type": "stream",
     "text": [
      "ID    \t Name \t Address \n",
      "\n",
      "c100\tPaul\tCalifornia\n",
      "\n",
      "c101\tJosh\tNew York\n",
      "\n",
      "c102\tRick\tChicago\n",
      "\n",
      "c103\tBen\tTexas\n",
      "\n",
      "c104\tAdam\tOhio\n",
      "\n"
     ]
    }
   ],
   "source": [
    "print(\"ID    \\t Name \\t Address \\n\")\n",
    "cursor = conn.execute(\"SELECT id, name, address from COMPANY\") # Executing a Select statement to get all the row and respective column values\n",
    "for row in cursor: # Iterate through selected row\n",
    "    print(row[0]   + \"\\t\"  + row[1]  +  \"\\t\" + row[2] +  \"\\n\") # Print Column values\n",
    "    "
   ]
  },
  {
   "cell_type": "markdown",
   "metadata": {},
   "source": [
    "Commit the changes to make sure the Rows added can be used in another session"
   ]
  },
  {
   "cell_type": "code",
   "execution_count": 10,
   "metadata": {},
   "outputs": [],
   "source": [
    "conn.commit() # Commit the changes"
   ]
  },
  {
   "cell_type": "markdown",
   "metadata": {},
   "source": [
    "After Finishing with ChatBot-2,kindly uncomment this and run the below cell once to delete, commit changes and close the current session. Again comment after using!"
   ]
  },
  {
   "cell_type": "code",
   "execution_count": 12,
   "metadata": {},
   "outputs": [],
   "source": [
    "\"\"\"\n",
    "cursor = conn.cursor() # Create Cursor\n",
    "cursor.execute(\"DROP TABLE COMPANY\") # Drop the table\n",
    "conn.commit() # Commit the change\n",
    "conn.close() # Close the connection to db.\n",
    "\n",
    "\"\"\"\n"
   ]
  },
  {
   "cell_type": "code",
   "execution_count": null,
   "metadata": {},
   "outputs": [],
   "source": []
  }
 ],
 "metadata": {
  "kernelspec": {
   "display_name": "Python 3",
   "language": "python",
   "name": "python3"
  },
  "language_info": {
   "codemirror_mode": {
    "name": "ipython",
    "version": 3
   },
   "file_extension": ".py",
   "mimetype": "text/x-python",
   "name": "python",
   "nbconvert_exporter": "python",
   "pygments_lexer": "ipython3",
   "version": "3.7.4"
  }
 },
 "nbformat": 4,
 "nbformat_minor": 2
}
